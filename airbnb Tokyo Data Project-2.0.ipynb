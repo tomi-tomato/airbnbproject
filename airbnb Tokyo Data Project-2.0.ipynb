{
 "cells": [
  {
   "cell_type": "markdown",
   "metadata": {},
   "source": [
    "# General exercise using pandas to extract useful information\n",
    "\n",
    "This project is a simple showcase of straightforward usage of pandas. Although most csv files are used in Excel, this exercise was to understand how to answer simple questions about the data set using code in Python. "
   ]
  },
  {
   "cell_type": "code",
   "execution_count": 2,
   "metadata": {},
   "outputs": [],
   "source": [
    "import pandas as pd\n",
    "import numpy as np\n",
    "listings_df = pd.read_csv(\"listings_summary.csv\")\n",
    "\n",
    "# We take a look at what the data set is in general. The first step is always to open the dataset."
   ]
  },
  {
   "cell_type": "code",
   "execution_count": 3,
   "metadata": {},
   "outputs": [
    {
     "data": {
      "text/html": [
       "<div>\n",
       "<style scoped>\n",
       "    .dataframe tbody tr th:only-of-type {\n",
       "        vertical-align: middle;\n",
       "    }\n",
       "\n",
       "    .dataframe tbody tr th {\n",
       "        vertical-align: top;\n",
       "    }\n",
       "\n",
       "    .dataframe thead th {\n",
       "        text-align: right;\n",
       "    }\n",
       "</style>\n",
       "<table border=\"1\" class=\"dataframe\">\n",
       "  <thead>\n",
       "    <tr style=\"text-align: right;\">\n",
       "      <th></th>\n",
       "      <th>id</th>\n",
       "      <th>name</th>\n",
       "      <th>host_id</th>\n",
       "      <th>host_name</th>\n",
       "      <th>neighbourhood_group</th>\n",
       "      <th>neighbourhood</th>\n",
       "      <th>latitude</th>\n",
       "      <th>longitude</th>\n",
       "      <th>room_type</th>\n",
       "      <th>price</th>\n",
       "      <th>minimum_nights</th>\n",
       "      <th>number_of_reviews</th>\n",
       "      <th>last_review</th>\n",
       "      <th>reviews_per_month</th>\n",
       "      <th>calculated_host_listings_count</th>\n",
       "      <th>availability_365</th>\n",
       "      <th>number_of_reviews_ltm</th>\n",
       "      <th>license</th>\n",
       "    </tr>\n",
       "  </thead>\n",
       "  <tbody>\n",
       "    <tr>\n",
       "      <th>0</th>\n",
       "      <td>197677</td>\n",
       "      <td>Oshiage Holiday Apartment</td>\n",
       "      <td>964081</td>\n",
       "      <td>Yoshimi &amp; Marek</td>\n",
       "      <td>NaN</td>\n",
       "      <td>Sumida Ku</td>\n",
       "      <td>35.717070</td>\n",
       "      <td>139.826080</td>\n",
       "      <td>Entire home/apt</td>\n",
       "      <td>11000</td>\n",
       "      <td>3</td>\n",
       "      <td>165</td>\n",
       "      <td>2019-11-14</td>\n",
       "      <td>1.50</td>\n",
       "      <td>1</td>\n",
       "      <td>363</td>\n",
       "      <td>0</td>\n",
       "      <td>M130003350</td>\n",
       "    </tr>\n",
       "    <tr>\n",
       "      <th>1</th>\n",
       "      <td>776070</td>\n",
       "      <td>Kero-kero house room 1</td>\n",
       "      <td>801494</td>\n",
       "      <td>Kei</td>\n",
       "      <td>NaN</td>\n",
       "      <td>Kita Ku</td>\n",
       "      <td>35.738440</td>\n",
       "      <td>139.769170</td>\n",
       "      <td>Private room</td>\n",
       "      <td>7816</td>\n",
       "      <td>3</td>\n",
       "      <td>228</td>\n",
       "      <td>2020-01-18</td>\n",
       "      <td>2.33</td>\n",
       "      <td>1</td>\n",
       "      <td>216</td>\n",
       "      <td>0</td>\n",
       "      <td>M130000243</td>\n",
       "    </tr>\n",
       "    <tr>\n",
       "      <th>2</th>\n",
       "      <td>1033276</td>\n",
       "      <td>private room @Senju area</td>\n",
       "      <td>5686404</td>\n",
       "      <td>Yukiko</td>\n",
       "      <td>NaN</td>\n",
       "      <td>Adachi Ku</td>\n",
       "      <td>35.744370</td>\n",
       "      <td>139.797390</td>\n",
       "      <td>Private room</td>\n",
       "      <td>30000</td>\n",
       "      <td>1</td>\n",
       "      <td>72</td>\n",
       "      <td>2018-04-15</td>\n",
       "      <td>0.78</td>\n",
       "      <td>2</td>\n",
       "      <td>270</td>\n",
       "      <td>0</td>\n",
       "      <td>M130007760</td>\n",
       "    </tr>\n",
       "    <tr>\n",
       "      <th>3</th>\n",
       "      <td>1096292</td>\n",
       "      <td>Home stay with a Japanese language teacher fam...</td>\n",
       "      <td>6018145</td>\n",
       "      <td>Mari</td>\n",
       "      <td>NaN</td>\n",
       "      <td>Shinjuku Ku</td>\n",
       "      <td>35.692330</td>\n",
       "      <td>139.708510</td>\n",
       "      <td>Private room</td>\n",
       "      <td>14036</td>\n",
       "      <td>1</td>\n",
       "      <td>252</td>\n",
       "      <td>2020-02-12</td>\n",
       "      <td>2.73</td>\n",
       "      <td>3</td>\n",
       "      <td>365</td>\n",
       "      <td>1</td>\n",
       "      <td>M130002814</td>\n",
       "    </tr>\n",
       "    <tr>\n",
       "      <th>4</th>\n",
       "      <td>1196177</td>\n",
       "      <td>Stay with host Cozy private room Senju area</td>\n",
       "      <td>5686404</td>\n",
       "      <td>Yukiko</td>\n",
       "      <td>NaN</td>\n",
       "      <td>Adachi Ku</td>\n",
       "      <td>35.744750</td>\n",
       "      <td>139.797310</td>\n",
       "      <td>Private room</td>\n",
       "      <td>3000</td>\n",
       "      <td>2</td>\n",
       "      <td>95</td>\n",
       "      <td>2020-03-17</td>\n",
       "      <td>0.98</td>\n",
       "      <td>2</td>\n",
       "      <td>88</td>\n",
       "      <td>0</td>\n",
       "      <td>M130007760</td>\n",
       "    </tr>\n",
       "    <tr>\n",
       "      <th>...</th>\n",
       "      <td>...</td>\n",
       "      <td>...</td>\n",
       "      <td>...</td>\n",
       "      <td>...</td>\n",
       "      <td>...</td>\n",
       "      <td>...</td>\n",
       "      <td>...</td>\n",
       "      <td>...</td>\n",
       "      <td>...</td>\n",
       "      <td>...</td>\n",
       "      <td>...</td>\n",
       "      <td>...</td>\n",
       "      <td>...</td>\n",
       "      <td>...</td>\n",
       "      <td>...</td>\n",
       "      <td>...</td>\n",
       "      <td>...</td>\n",
       "      <td>...</td>\n",
       "    </tr>\n",
       "    <tr>\n",
       "      <th>10665</th>\n",
       "      <td>52486420</td>\n",
       "      <td>new open/新宿/大久保5分/免费WiFi</td>\n",
       "      <td>310747973</td>\n",
       "      <td>Yama</td>\n",
       "      <td>NaN</td>\n",
       "      <td>Shinjuku Ku</td>\n",
       "      <td>35.704780</td>\n",
       "      <td>139.692704</td>\n",
       "      <td>Entire home/apt</td>\n",
       "      <td>5600</td>\n",
       "      <td>1</td>\n",
       "      <td>0</td>\n",
       "      <td>NaN</td>\n",
       "      <td>NaN</td>\n",
       "      <td>7</td>\n",
       "      <td>175</td>\n",
       "      <td>0</td>\n",
       "      <td>Hotels and Inns Business Act | 新宿区保健所 | 2新保衛環第94号</td>\n",
       "    </tr>\n",
       "    <tr>\n",
       "      <th>10666</th>\n",
       "      <td>52497948</td>\n",
       "      <td>48密や時間を気にせず友人たちと集まれる新築2階建貸切♪無料駐車あり☆目の前にスーパー☆シェ...</td>\n",
       "      <td>183877565</td>\n",
       "      <td>UI Home Company</td>\n",
       "      <td>NaN</td>\n",
       "      <td>Sumida Ku</td>\n",
       "      <td>35.731955</td>\n",
       "      <td>139.819147</td>\n",
       "      <td>Entire home/apt</td>\n",
       "      <td>14429</td>\n",
       "      <td>1</td>\n",
       "      <td>0</td>\n",
       "      <td>NaN</td>\n",
       "      <td>NaN</td>\n",
       "      <td>31</td>\n",
       "      <td>174</td>\n",
       "      <td>0</td>\n",
       "      <td>Hotels and Inns Business Act | 墨田区保健所 | 3墨福衛生環...</td>\n",
       "    </tr>\n",
       "    <tr>\n",
       "      <th>10667</th>\n",
       "      <td>52497968</td>\n",
       "      <td>【学生限定　男子専用】☆通学ラクラク～自宅とホステルの2拠点生活！気軽に１人暮らし体験！？ベッド②</td>\n",
       "      <td>147279325</td>\n",
       "      <td>Khaosan World Asakusa Ryokan&amp;Hostel</td>\n",
       "      <td>NaN</td>\n",
       "      <td>Taito Ku</td>\n",
       "      <td>35.715706</td>\n",
       "      <td>139.791221</td>\n",
       "      <td>Shared room</td>\n",
       "      <td>1200</td>\n",
       "      <td>1</td>\n",
       "      <td>0</td>\n",
       "      <td>NaN</td>\n",
       "      <td>NaN</td>\n",
       "      <td>15</td>\n",
       "      <td>90</td>\n",
       "      <td>0</td>\n",
       "      <td>Hotels and Inns Business Act | 東京都台東区台東保健所 | 2...</td>\n",
       "    </tr>\n",
       "    <tr>\n",
       "      <th>10668</th>\n",
       "      <td>52498653</td>\n",
       "      <td>【学生限定　女子専用】☆通学ラクラク～自宅とホステルの2拠点生活！気軽に１人暮らし体験！？ベッド②</td>\n",
       "      <td>147279325</td>\n",
       "      <td>Khaosan World Asakusa Ryokan&amp;Hostel</td>\n",
       "      <td>NaN</td>\n",
       "      <td>Taito Ku</td>\n",
       "      <td>35.714026</td>\n",
       "      <td>139.790688</td>\n",
       "      <td>Shared room</td>\n",
       "      <td>1200</td>\n",
       "      <td>1</td>\n",
       "      <td>0</td>\n",
       "      <td>NaN</td>\n",
       "      <td>NaN</td>\n",
       "      <td>15</td>\n",
       "      <td>90</td>\n",
       "      <td>0</td>\n",
       "      <td>Hotels and Inns Business Act | 東京都台東区台東保健所 |  ...</td>\n",
       "    </tr>\n",
       "    <tr>\n",
       "      <th>10669</th>\n",
       "      <td>52499934</td>\n",
       "      <td>新御徒町徒步5分钟#秋叶原车站#艺术感十足房#机场直达45分#免费Wi-Fi</td>\n",
       "      <td>287778251</td>\n",
       "      <td>Hasegawa</td>\n",
       "      <td>NaN</td>\n",
       "      <td>Taito Ku</td>\n",
       "      <td>35.704133</td>\n",
       "      <td>139.783314</td>\n",
       "      <td>Private room</td>\n",
       "      <td>3100</td>\n",
       "      <td>1</td>\n",
       "      <td>0</td>\n",
       "      <td>NaN</td>\n",
       "      <td>NaN</td>\n",
       "      <td>10</td>\n",
       "      <td>359</td>\n",
       "      <td>0</td>\n",
       "      <td>M130017605</td>\n",
       "    </tr>\n",
       "  </tbody>\n",
       "</table>\n",
       "<p>10670 rows × 18 columns</p>\n",
       "</div>"
      ],
      "text/plain": [
       "             id                                               name    host_id  \\\n",
       "0        197677                          Oshiage Holiday Apartment     964081   \n",
       "1        776070                             Kero-kero house room 1     801494   \n",
       "2       1033276                           private room @Senju area    5686404   \n",
       "3       1096292  Home stay with a Japanese language teacher fam...    6018145   \n",
       "4       1196177        Stay with host Cozy private room Senju area    5686404   \n",
       "...         ...                                                ...        ...   \n",
       "10665  52486420                           new open/新宿/大久保5分/免费WiFi  310747973   \n",
       "10666  52497948  48密や時間を気にせず友人たちと集まれる新築2階建貸切♪無料駐車あり☆目の前にスーパー☆シェ...  183877565   \n",
       "10667  52497968  【学生限定　男子専用】☆通学ラクラク～自宅とホステルの2拠点生活！気軽に１人暮らし体験！？ベッド②  147279325   \n",
       "10668  52498653  【学生限定　女子専用】☆通学ラクラク～自宅とホステルの2拠点生活！気軽に１人暮らし体験！？ベッド②  147279325   \n",
       "10669  52499934             新御徒町徒步5分钟#秋叶原车站#艺术感十足房#机场直达45分#免费Wi-Fi  287778251   \n",
       "\n",
       "                                 host_name  neighbourhood_group neighbourhood  \\\n",
       "0                          Yoshimi & Marek                  NaN     Sumida Ku   \n",
       "1                                      Kei                  NaN       Kita Ku   \n",
       "2                                   Yukiko                  NaN     Adachi Ku   \n",
       "3                                     Mari                  NaN   Shinjuku Ku   \n",
       "4                                   Yukiko                  NaN     Adachi Ku   \n",
       "...                                    ...                  ...           ...   \n",
       "10665                                 Yama                  NaN   Shinjuku Ku   \n",
       "10666                      UI Home Company                  NaN     Sumida Ku   \n",
       "10667  Khaosan World Asakusa Ryokan&Hostel                  NaN      Taito Ku   \n",
       "10668  Khaosan World Asakusa Ryokan&Hostel                  NaN      Taito Ku   \n",
       "10669                             Hasegawa                  NaN      Taito Ku   \n",
       "\n",
       "        latitude   longitude        room_type  price  minimum_nights  \\\n",
       "0      35.717070  139.826080  Entire home/apt  11000               3   \n",
       "1      35.738440  139.769170     Private room   7816               3   \n",
       "2      35.744370  139.797390     Private room  30000               1   \n",
       "3      35.692330  139.708510     Private room  14036               1   \n",
       "4      35.744750  139.797310     Private room   3000               2   \n",
       "...          ...         ...              ...    ...             ...   \n",
       "10665  35.704780  139.692704  Entire home/apt   5600               1   \n",
       "10666  35.731955  139.819147  Entire home/apt  14429               1   \n",
       "10667  35.715706  139.791221      Shared room   1200               1   \n",
       "10668  35.714026  139.790688      Shared room   1200               1   \n",
       "10669  35.704133  139.783314     Private room   3100               1   \n",
       "\n",
       "       number_of_reviews last_review  reviews_per_month  \\\n",
       "0                    165  2019-11-14               1.50   \n",
       "1                    228  2020-01-18               2.33   \n",
       "2                     72  2018-04-15               0.78   \n",
       "3                    252  2020-02-12               2.73   \n",
       "4                     95  2020-03-17               0.98   \n",
       "...                  ...         ...                ...   \n",
       "10665                  0         NaN                NaN   \n",
       "10666                  0         NaN                NaN   \n",
       "10667                  0         NaN                NaN   \n",
       "10668                  0         NaN                NaN   \n",
       "10669                  0         NaN                NaN   \n",
       "\n",
       "       calculated_host_listings_count  availability_365  \\\n",
       "0                                   1               363   \n",
       "1                                   1               216   \n",
       "2                                   2               270   \n",
       "3                                   3               365   \n",
       "4                                   2                88   \n",
       "...                               ...               ...   \n",
       "10665                               7               175   \n",
       "10666                              31               174   \n",
       "10667                              15                90   \n",
       "10668                              15                90   \n",
       "10669                              10               359   \n",
       "\n",
       "       number_of_reviews_ltm  \\\n",
       "0                          0   \n",
       "1                          0   \n",
       "2                          0   \n",
       "3                          1   \n",
       "4                          0   \n",
       "...                      ...   \n",
       "10665                      0   \n",
       "10666                      0   \n",
       "10667                      0   \n",
       "10668                      0   \n",
       "10669                      0   \n",
       "\n",
       "                                                 license  \n",
       "0                                             M130003350  \n",
       "1                                             M130000243  \n",
       "2                                             M130007760  \n",
       "3                                             M130002814  \n",
       "4                                             M130007760  \n",
       "...                                                  ...  \n",
       "10665  Hotels and Inns Business Act | 新宿区保健所 | 2新保衛環第94号  \n",
       "10666  Hotels and Inns Business Act | 墨田区保健所 | 3墨福衛生環...  \n",
       "10667  Hotels and Inns Business Act | 東京都台東区台東保健所 | 2...  \n",
       "10668  Hotels and Inns Business Act | 東京都台東区台東保健所 |  ...  \n",
       "10669                                         M130017605  \n",
       "\n",
       "[10670 rows x 18 columns]"
      ]
     },
     "execution_count": 3,
     "metadata": {},
     "output_type": "execute_result"
    }
   ],
   "source": [
    "listings_df"
   ]
  },
  {
   "cell_type": "markdown",
   "metadata": {},
   "source": [
    "# We ask some general questions about the data set.\n",
    "\n",
    "We look at the number of listings in total, and some examples of the districts which the listings are in:\n"
   ]
  },
  {
   "cell_type": "code",
   "execution_count": 4,
   "metadata": {},
   "outputs": [
    {
     "data": {
      "text/plain": [
       "0          Sumida Ku\n",
       "1            Kita Ku\n",
       "2          Adachi Ku\n",
       "3        Shinjuku Ku\n",
       "4          Adachi Ku\n",
       "            ...     \n",
       "10665    Shinjuku Ku\n",
       "10666      Sumida Ku\n",
       "10667       Taito Ku\n",
       "10668       Taito Ku\n",
       "10669       Taito Ku\n",
       "Name: neighbourhood, Length: 10670, dtype: object"
      ]
     },
     "execution_count": 4,
     "metadata": {},
     "output_type": "execute_result"
    }
   ],
   "source": [
    "listings_df['neighbourhood']"
   ]
  },
  {
   "cell_type": "markdown",
   "metadata": {},
   "source": [
    "# First we find the number of neighbourhoods (ku or districts) in the data set"
   ]
  },
  {
   "cell_type": "code",
   "execution_count": 5,
   "metadata": {},
   "outputs": [
    {
     "data": {
      "text/plain": [
       "48"
      ]
     },
     "execution_count": 5,
     "metadata": {},
     "output_type": "execute_result"
    }
   ],
   "source": [
    "listings_df['neighbourhood'].nunique()"
   ]
  },
  {
   "cell_type": "code",
   "execution_count": 6,
   "metadata": {},
   "outputs": [],
   "source": [
    "# 48 distinct neighborhoods"
   ]
  },
  {
   "cell_type": "markdown",
   "metadata": {},
   "source": [
    "# Average listing per neighborhood/district"
   ]
  },
  {
   "cell_type": "code",
   "execution_count": 7,
   "metadata": {},
   "outputs": [
    {
     "data": {
      "text/plain": [
       "0          Sumida Ku\n",
       "1            Kita Ku\n",
       "2          Adachi Ku\n",
       "3        Shinjuku Ku\n",
       "4          Adachi Ku\n",
       "            ...     \n",
       "10665    Shinjuku Ku\n",
       "10666      Sumida Ku\n",
       "10667       Taito Ku\n",
       "10668       Taito Ku\n",
       "10669       Taito Ku\n",
       "Name: neighbourhood, Length: 10670, dtype: object"
      ]
     },
     "execution_count": 7,
     "metadata": {},
     "output_type": "execute_result"
    }
   ],
   "source": [
    "listings_df['neighbourhood']"
   ]
  },
  {
   "cell_type": "code",
   "execution_count": 8,
   "metadata": {},
   "outputs": [
    {
     "data": {
      "text/html": [
       "<div>\n",
       "<style scoped>\n",
       "    .dataframe tbody tr th:only-of-type {\n",
       "        vertical-align: middle;\n",
       "    }\n",
       "\n",
       "    .dataframe tbody tr th {\n",
       "        vertical-align: top;\n",
       "    }\n",
       "\n",
       "    .dataframe thead th {\n",
       "        text-align: right;\n",
       "    }\n",
       "</style>\n",
       "<table border=\"1\" class=\"dataframe\">\n",
       "  <thead>\n",
       "    <tr style=\"text-align: right;\">\n",
       "      <th></th>\n",
       "      <th>neighbourhood</th>\n",
       "      <th>price</th>\n",
       "    </tr>\n",
       "  </thead>\n",
       "  <tbody>\n",
       "    <tr>\n",
       "      <th>0</th>\n",
       "      <td>Sumida Ku</td>\n",
       "      <td>11000</td>\n",
       "    </tr>\n",
       "    <tr>\n",
       "      <th>1</th>\n",
       "      <td>Kita Ku</td>\n",
       "      <td>7816</td>\n",
       "    </tr>\n",
       "    <tr>\n",
       "      <th>2</th>\n",
       "      <td>Adachi Ku</td>\n",
       "      <td>30000</td>\n",
       "    </tr>\n",
       "    <tr>\n",
       "      <th>3</th>\n",
       "      <td>Shinjuku Ku</td>\n",
       "      <td>14036</td>\n",
       "    </tr>\n",
       "    <tr>\n",
       "      <th>4</th>\n",
       "      <td>Adachi Ku</td>\n",
       "      <td>3000</td>\n",
       "    </tr>\n",
       "    <tr>\n",
       "      <th>...</th>\n",
       "      <td>...</td>\n",
       "      <td>...</td>\n",
       "    </tr>\n",
       "    <tr>\n",
       "      <th>10665</th>\n",
       "      <td>Shinjuku Ku</td>\n",
       "      <td>5600</td>\n",
       "    </tr>\n",
       "    <tr>\n",
       "      <th>10666</th>\n",
       "      <td>Sumida Ku</td>\n",
       "      <td>14429</td>\n",
       "    </tr>\n",
       "    <tr>\n",
       "      <th>10667</th>\n",
       "      <td>Taito Ku</td>\n",
       "      <td>1200</td>\n",
       "    </tr>\n",
       "    <tr>\n",
       "      <th>10668</th>\n",
       "      <td>Taito Ku</td>\n",
       "      <td>1200</td>\n",
       "    </tr>\n",
       "    <tr>\n",
       "      <th>10669</th>\n",
       "      <td>Taito Ku</td>\n",
       "      <td>3100</td>\n",
       "    </tr>\n",
       "  </tbody>\n",
       "</table>\n",
       "<p>10670 rows × 2 columns</p>\n",
       "</div>"
      ],
      "text/plain": [
       "      neighbourhood  price\n",
       "0         Sumida Ku  11000\n",
       "1           Kita Ku   7816\n",
       "2         Adachi Ku  30000\n",
       "3       Shinjuku Ku  14036\n",
       "4         Adachi Ku   3000\n",
       "...             ...    ...\n",
       "10665   Shinjuku Ku   5600\n",
       "10666     Sumida Ku  14429\n",
       "10667      Taito Ku   1200\n",
       "10668      Taito Ku   1200\n",
       "10669      Taito Ku   3100\n",
       "\n",
       "[10670 rows x 2 columns]"
      ]
     },
     "execution_count": 8,
     "metadata": {},
     "output_type": "execute_result"
    }
   ],
   "source": [
    "listprice = listings_df[['neighbourhood','price']]\n",
    "listprice"
   ]
  },
  {
   "cell_type": "code",
   "execution_count": 9,
   "metadata": {},
   "outputs": [
    {
     "name": "stdout",
     "output_type": "stream",
     "text": [
      "['Sumida Ku', 'Kita Ku', 'Adachi Ku', 'Shinjuku Ku', 'Shibuya Ku', 'Setagaya Ku', 'Katsushika Ku', 'Meguro Ku', 'Toshima Ku', 'Shinagawa Ku', 'Minato Ku', 'Suginami Ku', 'Akishima Shi', 'Bunkyo Ku', 'Taito Ku', 'Itabashi Ku', 'Arakawa Ku', 'Machida Shi', 'Higashimurayama Shi', 'Chuo Ku', 'Nakano Ku', 'Koto Ku', 'Kokubunji Shi', 'Hino Shi', 'Mitaka Shi', 'Hachioji Shi', 'Edogawa Ku', 'Nerima Ku', 'Ota Ku', 'Akiruno Shi', 'Chiyoda Ku', 'Kodaira Shi', 'Fuchu Shi', 'Tama Shi', 'Komae Shi', 'Chofu Shi', 'Nishitokyo Shi', 'Higashikurume Shi', 'Koganei Shi', 'Hinohara Mura', 'Ome Shi', 'Kunitachi Shi', 'Okutama Machi', 'Hamura Shi', 'Tachikawa Shi', 'Musashino Shi', 'Musashimurayama Shi', 'Inagi Shi']\n",
      "neighbourhood\n",
      "Adachi Ku               8390.690722\n",
      "Akiruno Shi            14995.692308\n",
      "Akishima Shi            3854.000000\n",
      "Arakawa Ku             14549.738938\n",
      "Bunkyo Ku               7725.872180\n",
      "Chiyoda Ku             22078.555556\n",
      "Chofu Shi              11120.538462\n",
      "Chuo Ku                13107.900000\n",
      "Edogawa Ku             35417.402597\n",
      "Fuchu Shi               5063.000000\n",
      "Hachioji Shi            7866.735294\n",
      "Hamura Shi              6100.500000\n",
      "Higashikurume Shi       4300.000000\n",
      "Higashimurayama Shi     5880.125000\n",
      "Hino Shi                5095.208333\n",
      "Hinohara Mura           5000.000000\n",
      "Inagi Shi               1800.000000\n",
      "Itabashi Ku             8542.398773\n",
      "Katsushika Ku          10217.360595\n",
      "Kita Ku                 9188.457031\n",
      "Kodaira Shi            16716.600000\n",
      "Koganei Shi             9454.500000\n",
      "Kokubunji Shi           5928.666667\n",
      "Komae Shi              17139.250000\n",
      "Koto Ku                 8953.060109\n",
      "Kunitachi Shi           4057.142857\n",
      "Machida Shi             5685.058824\n",
      "Meguro Ku              10712.909091\n",
      "Minato Ku              16963.105140\n",
      "Mitaka Shi             13926.545455\n",
      "Musashimurayama Shi     3000.000000\n",
      "Musashino Shi          12095.333333\n",
      "Nakano Ku              20965.444840\n",
      "Nerima Ku               9464.901961\n",
      "Nishitokyo Shi         10085.187500\n",
      "Okutama Machi           8510.000000\n",
      "Ome Shi                 9353.750000\n",
      "Ota Ku                  8796.866530\n",
      "Setagaya Ku             9287.745645\n",
      "Shibuya Ku             13727.991525\n",
      "Shinagawa Ku           23907.257576\n",
      "Shinjuku Ku            11529.861237\n",
      "Suginami Ku            10521.614634\n",
      "Sumida Ku              11641.435624\n",
      "Tachikawa Shi           5938.000000\n",
      "Taito Ku               12873.926617\n",
      "Tama Shi                6074.333333\n",
      "Toshima Ku             13197.910480\n",
      "Name: price, dtype: float64\n"
     ]
    }
   ],
   "source": [
    "nbhd = print(listings_df.neighbourhood.unique().tolist())\n",
    "\n",
    "average_prices = listprice.groupby('neighbourhood')['price'].mean()\n",
    "\n",
    "# Print the average prices\n",
    "print(average_prices)"
   ]
  },
  {
   "cell_type": "markdown",
   "metadata": {},
   "source": [
    "# We observe which district has the most expensive listing:"
   ]
  },
  {
   "cell_type": "code",
   "execution_count": 10,
   "metadata": {},
   "outputs": [
    {
     "name": "stdout",
     "output_type": "stream",
     "text": [
      "The maximum price is: 2185000\n",
      "The listing with the maximum price is: Nakano Ku\n"
     ]
    }
   ],
   "source": [
    "max_row = listprice.loc[listprice['price'].idxmax()]\n",
    "\n",
    "# Get the maximum price and name\n",
    "maximum_price = max_row['price']\n",
    "maximum_name = max_row['neighbourhood']\n",
    "\n",
    "# Print the maximum price and name\n",
    "print(\"The maximum price is:\", maximum_price)\n",
    "print(\"The listing with the maximum price is:\", maximum_name)"
   ]
  },
  {
   "cell_type": "markdown",
   "metadata": {},
   "source": [
    "# Which district has the cheapest listing:"
   ]
  },
  {
   "cell_type": "code",
   "execution_count": 11,
   "metadata": {},
   "outputs": [
    {
     "name": "stdout",
     "output_type": "stream",
     "text": [
      "The minimum price is: 0\n",
      "The listing with the minimum price is: Shibuya Ku\n"
     ]
    }
   ],
   "source": [
    "min_row = listprice.loc[listprice['price'].idxmin()]\n",
    "\n",
    "# Get the maximum price and name\n",
    "minimum_price = min_row['price']\n",
    "minimum_name = min_row['neighbourhood']\n",
    "\n",
    "# Print the maximum price and name\n",
    "print(\"The minimum price is:\", minimum_price)\n",
    "print(\"The listing with the minimum price is:\", minimum_name)"
   ]
  },
  {
   "cell_type": "markdown",
   "metadata": {},
   "source": [
    "Although the minimum list price is 0, we can figure out that this is probably a 'bad' data entry and can eliminate it later from the data."
   ]
  },
  {
   "cell_type": "markdown",
   "metadata": {},
   "source": [
    "# How many hosts are there in Adachi-ku?"
   ]
  },
  {
   "cell_type": "code",
   "execution_count": 12,
   "metadata": {},
   "outputs": [
    {
     "name": "stdout",
     "output_type": "stream",
     "text": [
      "['Sumida Ku', 'Kita Ku', 'Adachi Ku', 'Shinjuku Ku', 'Shibuya Ku', 'Setagaya Ku', 'Katsushika Ku', 'Meguro Ku', 'Toshima Ku', 'Shinagawa Ku', 'Minato Ku', 'Suginami Ku', 'Akishima Shi', 'Bunkyo Ku', 'Taito Ku', 'Itabashi Ku', 'Arakawa Ku', 'Machida Shi', 'Higashimurayama Shi', 'Chuo Ku', 'Nakano Ku', 'Koto Ku', 'Kokubunji Shi', 'Hino Shi', 'Mitaka Shi', 'Hachioji Shi', 'Edogawa Ku', 'Nerima Ku', 'Ota Ku', 'Akiruno Shi', 'Chiyoda Ku', 'Kodaira Shi', 'Fuchu Shi', 'Tama Shi', 'Komae Shi', 'Chofu Shi', 'Nishitokyo Shi', 'Higashikurume Shi', 'Koganei Shi', 'Hinohara Mura', 'Ome Shi', 'Kunitachi Shi', 'Okutama Machi', 'Hamura Shi', 'Tachikawa Shi', 'Musashino Shi', 'Musashimurayama Shi', 'Inagi Shi']\n"
     ]
    }
   ],
   "source": [
    "nbhd = print(listings_df.neighbourhood.unique().tolist())"
   ]
  },
  {
   "cell_type": "code",
   "execution_count": 13,
   "metadata": {},
   "outputs": [
    {
     "data": {
      "text/html": [
       "<div>\n",
       "<style scoped>\n",
       "    .dataframe tbody tr th:only-of-type {\n",
       "        vertical-align: middle;\n",
       "    }\n",
       "\n",
       "    .dataframe tbody tr th {\n",
       "        vertical-align: top;\n",
       "    }\n",
       "\n",
       "    .dataframe thead th {\n",
       "        text-align: right;\n",
       "    }\n",
       "</style>\n",
       "<table border=\"1\" class=\"dataframe\">\n",
       "  <thead>\n",
       "    <tr style=\"text-align: right;\">\n",
       "      <th></th>\n",
       "      <th>neighbourhood</th>\n",
       "      <th>host_name</th>\n",
       "    </tr>\n",
       "  </thead>\n",
       "  <tbody>\n",
       "    <tr>\n",
       "      <th>0</th>\n",
       "      <td>Sumida Ku</td>\n",
       "      <td>Yoshimi &amp; Marek</td>\n",
       "    </tr>\n",
       "    <tr>\n",
       "      <th>1</th>\n",
       "      <td>Kita Ku</td>\n",
       "      <td>Kei</td>\n",
       "    </tr>\n",
       "    <tr>\n",
       "      <th>2</th>\n",
       "      <td>Adachi Ku</td>\n",
       "      <td>Yukiko</td>\n",
       "    </tr>\n",
       "    <tr>\n",
       "      <th>3</th>\n",
       "      <td>Shinjuku Ku</td>\n",
       "      <td>Mari</td>\n",
       "    </tr>\n",
       "    <tr>\n",
       "      <th>4</th>\n",
       "      <td>Adachi Ku</td>\n",
       "      <td>Yukiko</td>\n",
       "    </tr>\n",
       "    <tr>\n",
       "      <th>...</th>\n",
       "      <td>...</td>\n",
       "      <td>...</td>\n",
       "    </tr>\n",
       "    <tr>\n",
       "      <th>10665</th>\n",
       "      <td>Shinjuku Ku</td>\n",
       "      <td>Yama</td>\n",
       "    </tr>\n",
       "    <tr>\n",
       "      <th>10666</th>\n",
       "      <td>Sumida Ku</td>\n",
       "      <td>UI Home Company</td>\n",
       "    </tr>\n",
       "    <tr>\n",
       "      <th>10667</th>\n",
       "      <td>Taito Ku</td>\n",
       "      <td>Khaosan World Asakusa Ryokan&amp;Hostel</td>\n",
       "    </tr>\n",
       "    <tr>\n",
       "      <th>10668</th>\n",
       "      <td>Taito Ku</td>\n",
       "      <td>Khaosan World Asakusa Ryokan&amp;Hostel</td>\n",
       "    </tr>\n",
       "    <tr>\n",
       "      <th>10669</th>\n",
       "      <td>Taito Ku</td>\n",
       "      <td>Hasegawa</td>\n",
       "    </tr>\n",
       "  </tbody>\n",
       "</table>\n",
       "<p>10670 rows × 2 columns</p>\n",
       "</div>"
      ],
      "text/plain": [
       "      neighbourhood                            host_name\n",
       "0         Sumida Ku                      Yoshimi & Marek\n",
       "1           Kita Ku                                  Kei\n",
       "2         Adachi Ku                               Yukiko\n",
       "3       Shinjuku Ku                                 Mari\n",
       "4         Adachi Ku                               Yukiko\n",
       "...             ...                                  ...\n",
       "10665   Shinjuku Ku                                 Yama\n",
       "10666     Sumida Ku                      UI Home Company\n",
       "10667      Taito Ku  Khaosan World Asakusa Ryokan&Hostel\n",
       "10668      Taito Ku  Khaosan World Asakusa Ryokan&Hostel\n",
       "10669      Taito Ku                             Hasegawa\n",
       "\n",
       "[10670 rows x 2 columns]"
      ]
     },
     "execution_count": 13,
     "metadata": {},
     "output_type": "execute_result"
    }
   ],
   "source": [
    "#np.unique(listings_df[['host_name', 'neighbourhood']].values)\n",
    "\n",
    "host_adachi_ku = listings_df[['neighbourhood', 'host_name']]\n",
    "host_adachi_ku"
   ]
  },
  {
   "cell_type": "code",
   "execution_count": 14,
   "metadata": {},
   "outputs": [
    {
     "data": {
      "text/plain": [
       "38"
      ]
     },
     "execution_count": 14,
     "metadata": {},
     "output_type": "execute_result"
    }
   ],
   "source": [
    "unique_host_adachi = host_adachi_ku.loc[host_adachi_ku[\"neighbourhood\"] == 'Adachi Ku', \"host_name\"]\n",
    "unique_host_adachi.nunique()\n"
   ]
  },
  {
   "cell_type": "markdown",
   "metadata": {},
   "source": [
    "# Linear Regression"
   ]
  },
  {
   "cell_type": "code",
   "execution_count": 20,
   "metadata": {
    "scrolled": true
   },
   "outputs": [
    {
     "name": "stdout",
     "output_type": "stream",
     "text": [
      "        id                                               name  host_id  \\\n",
      "0   197677                          Oshiage Holiday Apartment   964081   \n",
      "1   776070                             Kero-kero house room 1   801494   \n",
      "2  1033276                           private room @Senju area  5686404   \n",
      "3  1096292  Home stay with a Japanese language teacher fam...  6018145   \n",
      "4  1196177        Stay with host Cozy private room Senju area  5686404   \n",
      "\n",
      "         host_name  neighbourhood_group neighbourhood  latitude  longitude  \\\n",
      "0  Yoshimi & Marek                  NaN     Sumida Ku  35.71707  139.82608   \n",
      "1              Kei                  NaN       Kita Ku  35.73844  139.76917   \n",
      "2           Yukiko                  NaN     Adachi Ku  35.74437  139.79739   \n",
      "3             Mari                  NaN   Shinjuku Ku  35.69233  139.70851   \n",
      "4           Yukiko                  NaN     Adachi Ku  35.74475  139.79731   \n",
      "\n",
      "         room_type  price  minimum_nights  number_of_reviews last_review  \\\n",
      "0  Entire home/apt  11000               3                165  2019-11-14   \n",
      "1     Private room   7816               3                228  2020-01-18   \n",
      "2     Private room  30000               1                 72  2018-04-15   \n",
      "3     Private room  14036               1                252  2020-02-12   \n",
      "4     Private room   3000               2                 95  2020-03-17   \n",
      "\n",
      "   reviews_per_month  calculated_host_listings_count  availability_365  \\\n",
      "0               1.50                               1               363   \n",
      "1               2.33                               1               216   \n",
      "2               0.78                               2               270   \n",
      "3               2.73                               3               365   \n",
      "4               0.98                               2                88   \n",
      "\n",
      "   number_of_reviews_ltm     license  \n",
      "0                      0  M130003350  \n",
      "1                      0  M130000243  \n",
      "2                      0  M130007760  \n",
      "3                      1  M130002814  \n",
      "4                      0  M130007760  \n",
      "<class 'pandas.core.frame.DataFrame'>\n",
      "RangeIndex: 10670 entries, 0 to 10669\n",
      "Data columns (total 18 columns):\n",
      " #   Column                          Non-Null Count  Dtype  \n",
      "---  ------                          --------------  -----  \n",
      " 0   id                              10670 non-null  int64  \n",
      " 1   name                            10670 non-null  object \n",
      " 2   host_id                         10670 non-null  int64  \n",
      " 3   host_name                       10649 non-null  object \n",
      " 4   neighbourhood_group             0 non-null      float64\n",
      " 5   neighbourhood                   10670 non-null  object \n",
      " 6   latitude                        10670 non-null  float64\n",
      " 7   longitude                       10670 non-null  float64\n",
      " 8   room_type                       10670 non-null  object \n",
      " 9   price                           10670 non-null  int64  \n",
      " 10  minimum_nights                  10670 non-null  int64  \n",
      " 11  number_of_reviews               10670 non-null  int64  \n",
      " 12  last_review                     8582 non-null   object \n",
      " 13  reviews_per_month               8582 non-null   float64\n",
      " 14  calculated_host_listings_count  10670 non-null  int64  \n",
      " 15  availability_365                10670 non-null  int64  \n",
      " 16  number_of_reviews_ltm           10670 non-null  int64  \n",
      " 17  license                         10636 non-null  object \n",
      "dtypes: float64(4), int64(8), object(6)\n",
      "memory usage: 1.5+ MB\n",
      "None\n"
     ]
    },
    {
     "data": {
      "image/png": "[encoded data removed]",
      "text/plain": [
       "<Figure size 720x432 with 1 Axes>"
      ]
     },
     "metadata": {
      "needs_background": "light"
     },
     "output_type": "display_data"
    },
    {
     "data": {
      "image/png": "[encoded data removed]",
      "text/plain": [
       "<Figure size 864x432 with 1 Axes>"
      ]
     },
     "metadata": {
      "needs_background": "light"
     },
     "output_type": "display_data"
    },
    {
     "data": {
      "image/png": "[encoded data removed]",
      "text/plain": [
       "<Figure size 720x432 with 1 Axes>"
      ]
     },
     "metadata": {
      "needs_background": "light"
     },
     "output_type": "display_data"
    },
    {
     "data": {
      "image/png": "[encoded data removed]",
      "text/plain": [
       "<Figure size 720x432 with 1 Axes>"
      ]
     },
     "metadata": {
      "needs_background": "light"
     },
     "output_type": "display_data"
    }
   ],
   "source": [
    "import matplotlib\n",
    "import sklearn\n",
    "import matplotlib.pyplot as plt\n",
    "import seaborn as sns\n",
    "\n",
    "# Start by load the Airbnb data from the CSV file\n",
    "data = pd.read_csv('listings_summary.csv')\n",
    "\n",
    "# Display basic information about the dataset\n",
    "print(data.head())\n",
    "print(data.info())\n",
    "\n",
    "# Explore the distribution of property types\n",
    "plt.figure(figsize=(10, 6))\n",
    "sns.countplot(x='room_type', data=data)\n",
    "plt.xticks(rotation=45)\n",
    "plt.title('Distribution of Property Types')\n",
    "plt.xlabel('Property Type')\n",
    "plt.ylabel('Count')\n",
    "plt.show()\n",
    "\n",
    "# Analyze the average price by neighborhood\n",
    "avg_price_by_neighborhood = data.groupby('neighbourhood')['price'].mean().sort_values(ascending=False)\n",
    "plt.figure(figsize=(12, 6))\n",
    "avg_price_by_neighborhood.plot(kind='bar')\n",
    "plt.title('Average Price by Neighborhood (ku)')\n",
    "plt.xlabel('Neighborhood (ku)')\n",
    "plt.ylabel('Average Price')\n",
    "plt.xticks(rotation=90)\n",
    "plt.show()\n",
    "\n",
    "# Explore the relationship between price and number of reviews\n",
    "plt.figure(figsize=(10, 6))\n",
    "sns.scatterplot(x='number_of_reviews', y='price', data=data)\n",
    "plt.title('Relationship between Price and Number of Reviews')\n",
    "plt.xlabel('Number of Reviews')\n",
    "plt.ylabel('Price')\n",
    "plt.show()\n",
    "\n",
    "# Analyze the availability throughout the year\n",
    "availability_by_month = data.groupby('availability_365')['id'].count()\n",
    "plt.figure(figsize=(10, 6))\n",
    "availability_by_month.plot()\n",
    "plt.title('Availability throughout the Year')\n",
    "plt.xlabel('Availability (in days)')\n",
    "plt.ylabel('Count of Listings')\n",
    "plt.show()\n",
    "\n",
    "\n",
    "\n"
   ]
  },
  {
   "cell_type": "code",
   "execution_count": null,
   "metadata": {},
   "outputs": [],
   "source": []
  }
 ],
 "metadata": {
  "kernelspec": {
   "display_name": "Python 3",
   "language": "python",
   "name": "python3"
  },
  "language_info": {
   "codemirror_mode": {
    "name": "ipython",
    "version": 3
   },
   "file_extension": ".py",
   "mimetype": "text/x-python",
   "name": "python",
   "nbconvert_exporter": "python",
   "pygments_lexer": "ipython3",
   "version": "3.8.5"
  }
 },
 "nbformat": 4,
 "nbformat_minor": 4
}
